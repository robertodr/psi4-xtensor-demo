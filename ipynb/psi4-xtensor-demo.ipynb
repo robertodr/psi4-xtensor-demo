{
 "cells": [
  {
   "cell_type": "markdown",
   "metadata": {},
   "source": [
    "## What's on the [`xtensor`](https://github.com/psi4/psi4/pull/1443) pull request?\n",
    "\n",
    "Quite some template trickery:\n",
    "\n",
    "1. substitution failure is not an error ([SFINAE](https://en.cppreference.com/w/cpp/language/sfinae)) with `std::enable_if` and type traits. Allows arbitrary types, excluding corner cases.\n",
    "2. curiously recurring template pattern ([CRTP](https://en.wikipedia.org/wiki/Curiously_recurring_template_pattern)). Allows arbitrary rank with minimal code duplication.\n",
    "\n",
    "### Under `psi4/src/psi4/libmints`\n",
    "\n",
    "1. The C++ data structure `tensor.h`\n",
    "2. Implementation details for rank-1 (vector) `tensor_impl_vector.h`. This is called `Vector_<T>`.\n",
    "3. Implementation details for rank-2 (matrix) `tensor_impl_matrix.h`. This is called `Matrix_<T>`.\n",
    "3. Implementation details for rank-N `tensor_impl.h`\n",
    "4. 3D vectors are in `vector3.h`\n",
    "3. Builders, operators, linear algebra `linalg.h`\n",
    "\n",
    "### Under `psi4/src`\n",
    "\n",
    "Linear algebra is a _submodule_ of `psi4.core`:\n",
    "1. The Python bindings `export_linalg.cc`\n",
    "\n",
    "### Under `psi4/linalg`\n",
    "\n",
    "1. Python helpers `utils.py`\n",
    "2. Python factory-like interface for builders `factory.py`\n",
    "3. `__init__.py` exports the `psi4.core.linalg` submodule as `psi4.linalg`"
   ]
  },
  {
   "cell_type": "markdown",
   "metadata": {
    "jupyter": {
     "outputs_hidden": true
    }
   },
   "source": [
    "# Using the `xtensor` branch\n",
    "\n",
    "## Importing"
   ]
  },
  {
   "cell_type": "code",
   "execution_count": null,
   "metadata": {},
   "outputs": [],
   "source": [
    "import psi4\n",
    "import numpy as np\n",
    "\n",
    "help(psi4.linalg)"
   ]
  },
  {
   "cell_type": "markdown",
   "metadata": {},
   "source": [
    "## Building vectors and matrices\n",
    "\n",
    "The implemented types are:\n",
    "\n",
    "* C++ `float` (single-precision real number) which maps to `np.float32`\n",
    "* C++ `double` (double-precision real numbers) which maps to `np.float64`\n",
    "* C++ `std::complex<double>` (double precision complex number) which maps to `np.complex128`\n",
    "\n",
    "#### Caveats/limitations\n",
    "\n",
    "- **Other types are possible**, but one needs to be careful with **mixing** them. Some operations are **NOT** defined in the C++ standards, _e.g._ summing a `float` and `std::complex<float>`\n",
    "- Compiling with xsimd is currently **broken** if the complex number bindings are included.\n",
    "\n",
    "### Using the constructors\n",
    "\n",
    "The type information needs to be given **up front**. For a labeled, blocked vector of double-precision numbers we'd do:"
   ]
  },
  {
   "cell_type": "code",
   "execution_count": 8,
   "metadata": {},
   "outputs": [
    {
     "name": "stdout",
     "output_type": "stream",
     "text": [
      "  ## v1 Vector<double> (Symmetry 0) ##\n",
      "\n",
      "  Irrep: 1 Shape: {3}\n",
      "{ 3.14,  3.14,  3.14}\n",
      "\n",
      "  Irrep: 2 Shape: {2}\n",
      "{ 3.14,  3.14}\n",
      "\n",
      "  Irrep: 3 Shape: {1}\n",
      "{ 3.14}\n",
      "\n",
      "  Irrep: 4 Shape: {0}\n",
      "    (empty)\n",
      "\n",
      "\n"
     ]
    }
   ],
   "source": [
    "dimpi = psi4.core.Dimension([3, 2, 1, 0])\n",
    "# labeled, 4-irrep vector\n",
    "v1 = psi4.linalg.Vector_D(label=\"v1\", dimpi=dimpi, fill_value=3.14)\n",
    "print(v1)"
   ]
  },
  {
   "cell_type": "markdown",
   "metadata": {},
   "source": [
    "and similarly for a matrix:"
   ]
  },
  {
   "cell_type": "code",
   "execution_count": 18,
   "metadata": {},
   "outputs": [
    {
     "name": "stdout",
     "output_type": "stream",
     "text": [
      "  ## m1 Matrix<complex<double>> (Symmetry 0) ##\n",
      "\n",
      "  Irrep: 1 Shape: {3, 4}\n",
      "{{ 1.-1.i,  1.-1.i,  1.-1.i,  1.-1.i},\n",
      " { 1.-1.i,  1.-1.i,  1.-1.i,  1.-1.i},\n",
      " { 1.-1.i,  1.-1.i,  1.-1.i,  1.-1.i}}\n",
      "\n",
      "  Irrep: 2 Shape: {2, 2}\n",
      "{{ 1.-1.i,  1.-1.i},\n",
      " { 1.-1.i,  1.-1.i}}\n",
      "\n",
      "  Irrep: 3 Shape: {1, 0}\n",
      "    (empty)\n",
      "\n",
      "  Irrep: 4 Shape: {4, 2}\n",
      "{{ 1.-1.i,  1.-1.i},\n",
      " { 1.-1.i,  1.-1.i},\n",
      " { 1.-1.i,  1.-1.i},\n",
      " { 1.-1.i,  1.-1.i}}\n",
      "\n",
      "\n"
     ]
    }
   ],
   "source": [
    "rowspi = psi4.core.Dimension([3, 2, 1, 4])\n",
    "colspi = psi4.core.Dimension([4, 2, 0, 2])\n",
    "# labeled, 4-irrep matrix\n",
    "m1 = psi4.linalg.Matrix_CD(label='m1', rowspi=rowspi, colspi=colspi, fill_value=(1.0-1.0j))\n",
    "print(m1)"
   ]
  },
  {
   "cell_type": "markdown",
   "metadata": {},
   "source": [
    "### Using the factory\n",
    "\n",
    "This is slightly more Pythonic:\n",
    "* `kwargs` are the same as the constructors\n",
    "* the type information is passed as **an argument**: `dtype=np.float32`"
   ]
  },
  {
   "cell_type": "code",
   "execution_count": 22,
   "metadata": {},
   "outputs": [
    {
     "name": "stdout",
     "output_type": "stream",
     "text": [
      "  ## v1_f Vector<float> (Symmetry 0) ##\n",
      "\n",
      "  Irrep: 1 Shape: {3}\n",
      "{ 3.14000010490417,  3.14000010490417,  3.14000010490417}\n",
      "\n",
      "  Irrep: 2 Shape: {2}\n",
      "{ 3.14000010490417,  3.14000010490417}\n",
      "\n",
      "  Irrep: 3 Shape: {1}\n",
      "{ 3.14000010490417}\n",
      "\n",
      "  Irrep: 4 Shape: {0}\n",
      "    (empty)\n",
      "\n",
      "\n"
     ]
    }
   ],
   "source": [
    "v1_f = psi4.linalg.Vector_(dimpi=dimpi, fill_value=3.14, label=\"v1_f\", dtype=np.float32)\n",
    "print(v1_f)"
   ]
  },
  {
   "cell_type": "code",
   "execution_count": 23,
   "metadata": {},
   "outputs": [
    {
     "name": "stdout",
     "output_type": "stream",
     "text": [
      "  ## m1_d Matrix<double> (Symmetry 0) ##\n",
      "\n",
      "  Irrep: 1 Shape: {3, 4}\n",
      "{{-0.5, -0.5, -0.5, -0.5},\n",
      " {-0.5, -0.5, -0.5, -0.5},\n",
      " {-0.5, -0.5, -0.5, -0.5}}\n",
      "\n",
      "  Irrep: 2 Shape: {2, 2}\n",
      "{{-0.5, -0.5},\n",
      " {-0.5, -0.5}}\n",
      "\n",
      "  Irrep: 3 Shape: {1, 0}\n",
      "    (empty)\n",
      "\n",
      "  Irrep: 4 Shape: {4, 2}\n",
      "{{-0.5, -0.5},\n",
      " {-0.5, -0.5},\n",
      " {-0.5, -0.5},\n",
      " {-0.5, -0.5}}\n",
      "\n",
      "\n"
     ]
    }
   ],
   "source": [
    "m1_d = psi4.linalg.Matrix_(fill_value=-0.5, label=\"m1_d\", rowspi=rowspi, colspi=colspi, dtype=np.float64)\n",
    "print(m1_d)"
   ]
  },
  {
   "cell_type": "markdown",
   "metadata": {},
   "source": [
    "### Using the builders\n",
    "\n",
    "This is \"just\" like NumPy. Currently available builders:\n",
    "\n",
    "* `zeros_like`\n",
    "* `ones_like`\n",
    "* `full_like`\n",
    "\n",
    "**Caveats/limitations** Mixing types is **NOT** possible with the builders, _e.g._ creating a complex object with the shape of single-precision one won't work.\n",
    "\n",
    "Transmuting builders:\n",
    "\n",
    "* from `Vector`: `auto v_ = transmute(v);`\n",
    "* from `Matrix`: `auto m_ = transmute(m);`\n",
    "* **to be implemented** from `dpdfile2`\n",
    "* **to be implemented** from `dpdfile4`\n",
    "\n",
    "These will be deprecated in the future.\n",
    "\n",
    "Most of the above is tested in `tests/pytests/test_tensor_ctors.py`"
   ]
  },
  {
   "cell_type": "markdown",
   "metadata": {},
   "source": [
    "## Linear algebra\n",
    "\n",
    "`xtensor` and `xtensor-blas` come with all that is needed. It's a matter of \"lifting\" to the blocked structure, _i.e._ looping over blocks. Implemented so far:\n",
    "\n",
    "* `cholesky`. Tested in `tests/pytests/test_tensor_cholesky.py`\n",
    "* `qr`\n",
    "* `eigvals`. Tested in `tests/pytests/test_tensor_eig.py`\n",
    "* `eig`.  Tested in `tests/pytests/test_tensor_eig.py`\n",
    "* `eigvalsh`. Tested in `tests/pytests/test_tensor_eigh.py`\n",
    "* `eigh`. Tested in `tests/pytests/test_tensor_eigh.py`\n",
    "* `svd`\n",
    "* `doublet`. Tested in `tests/pytests/test_tensor_2d_doublet.py`"
   ]
  },
  {
   "cell_type": "markdown",
   "metadata": {},
   "source": [
    "## NumPy interoperability\n",
    "\n",
    "The blocks of each tensor have `numpy.ndarray` type. So you can manipulate them directly with NumPy."
   ]
  },
  {
   "cell_type": "code",
   "execution_count": 33,
   "metadata": {},
   "outputs": [
    {
     "name": "stdout",
     "output_type": "stream",
     "text": [
      "<class 'psi4.core.linalg.Vector_D'>\n",
      "<class 'numpy.ndarray'>\n",
      "<class 'psi4.core.linalg.Vector_F'>\n",
      "<class 'numpy.ndarray'>\n",
      "<class 'psi4.core.linalg.Matrix_CD'>\n",
      "<class 'numpy.ndarray'>\n",
      "<class 'psi4.core.linalg.Matrix_D'>\n",
      "<class 'numpy.ndarray'>\n",
      "At irrep 0, the block is\n",
      " [[-0.5 -0.5 -0.5 -0.5]\n",
      " [-0.5 -0.5 -0.5 -0.5]\n",
      " [-0.5 -0.5 -0.5 -0.5]]\n",
      "At irrep 1, the block is\n",
      " [[-0.5 -0.5]\n",
      " [-0.5 -0.5]]\n",
      "At irrep 2, the block is\n",
      " []\n",
      "At irrep 3, the block is\n",
      " [[-0.5 -0.5]\n",
      " [-0.5 -0.5]\n",
      " [-0.5 -0.5]\n",
      " [-0.5 -0.5]]\n"
     ]
    }
   ],
   "source": [
    "print(type(v1))\n",
    "print(type(v1[0]))\n",
    "\n",
    "print(type(v1_f))\n",
    "print(type(v1_f[0]))\n",
    "\n",
    "print(type(m1))\n",
    "print(type(m1[0]))\n",
    "\n",
    "print(type(m1_d))\n",
    "print(type(m1_d[0]))\n",
    "\n",
    "for h, blk in enumerate(m1_d):\n",
    "    print(f\"At irrep {h}, the block is\\n {blk}\")"
   ]
  },
  {
   "cell_type": "code",
   "execution_count": 40,
   "metadata": {},
   "outputs": [
    {
     "name": "stdout",
     "output_type": "stream",
     "text": [
      "    Assign NumPy array to unlabeled, 1-irrep matrix...................PASSED\n",
      "    Assign NumPy array to block extracted from labeled, 4-irrep matrixPASSED\n",
      "    Assign NumPy array to a block in labeled, 4-irrep matrix..........PASSED\n"
     ]
    }
   ],
   "source": [
    "int_row = 10\n",
    "int_col = 20\n",
    "\n",
    "# unlabeled 1-irrep matrix\n",
    "m2 = psi4.linalg.Matrix_(rows=int_row, cols=int_col)\n",
    "np_m2 = np.arange(int_row * int_col).reshape(int_row, int_col)\n",
    "m2[0] = np.arange(int_row * int_col).reshape(int_row, int_col)\n",
    "assert psi4.compare_values(np_m2, m2[0], \"Assign NumPy array to unlabeled, 1-irrep matrix\")\n",
    "\n",
    "dim_row = psi4.core.Dimension([3, 2, 1, 4])\n",
    "dim_col = psi4.core.Dimension([4, 2, 0, 2])\n",
    "# labeled, 4-irrep matrix\n",
    "m3 = psi4.linalg.Matrix_(label='m3', rowspi=dim_row, colspi=dim_col)\n",
    "# Get block, then modify it\n",
    "block = m3[3]\n",
    "block[:] = np.arange(m3[3].size).reshape(*m3[3].shape)\n",
    "assert psi4.compare_values(np.arange(m3[3].size).reshape(*m3[3].shape), m3[3],\n",
    "        \"Assign NumPy array to block extracted from labeled, 4-irrep matrix\")\n",
    "\n",
    "# Assign to block\n",
    "m3[1] = np.arange(m3[1].size).reshape(*m3[1].shape)\n",
    "assert psi4.compare_values(np.arange(m3[1].size).reshape(*m3[1].shape), m3[1],\n",
    "        \"Assign NumPy array to a block in labeled, 4-irrep matrix\")"
   ]
  },
  {
   "cell_type": "code",
   "execution_count": 46,
   "metadata": {},
   "outputs": [
    {
     "name": "stdout",
     "output_type": "stream",
     "text": [
      "    Cholesky factor L for block[0]....................................PASSED\n",
      "    Cholesky factor L for block[1]....................................PASSED\n",
      "    Cholesky factor L for block[2]....................................PASSED\n",
      "    Cholesky factor L for block[3]....................................PASSED\n",
      "    Cholesky factor L for block[4]....................................PASSED\n",
      "    Cholesky factor L for block[5]....................................PASSED\n",
      "    Cholesky factor L for block[6]....................................PASSED\n",
      "    Cholesky factor L for block[7]....................................PASSED\n"
     ]
    }
   ],
   "source": [
    "# Make a Hermitian blocked matrix (see also psi4/linalg/utils.py)\n",
    "dim = psi4.core.Dimension([2, 3, 4, 5, 6, 7, 8, 9])\n",
    "m = psi4.linalg.Matrix_(label='test', rowspi=dim, colspi=dim, dtype=np.complex128)\n",
    "\n",
    "for h in range(m.nirrep):\n",
    "    shape = (m.rows(h), m.cols(h ^ m.symmetry))\n",
    "    blk = np.random.randn(*shape) + np.random.randn(*shape) * 1j\n",
    "    U, s, V = np.linalg.svd(np.dot(blk.conj().T, blk))\n",
    "    m[h] = np.dot(np.dot(U, 1.0 + np.diag(np.random.rand(shape[0]))), V)\n",
    "    \n",
    "res = psi4.linalg.cholesky(m)\n",
    "\n",
    "expected = [np.linalg.cholesky(blk) for blk in m]\n",
    "\n",
    "for blk_idx, blks in enumerate(zip(expected, res)):\n",
    "    assert psi4.compare_values(blks[0], blks[1], f\"Cholesky factor L for block[{blk_idx}]\")"
   ]
  },
  {
   "cell_type": "markdown",
   "metadata": {},
   "source": [
    "## **All instances of `Vector` and `Matrix` need to be replaced with `Vector_<double>` and `Matrix_<double>`.**\n",
    "\n",
    "## The transition so far\n",
    "\n",
    "Done so far:\n",
    "* `Vector3` implementation replaced everywhere.\n",
    "* `Vector_<double>` replacement in files related to `export_functional.cc`.\n",
    "* `Vector_<double>` replacement in files related to `export_fock.cc`.\n",
    "\n",
    "## **Proposal to move forward**\n",
    "\n",
    "It is **unrealistic** that I'll be able to move all of Psi4 over.\n",
    "\n",
    "1. The current work gets merged (after review!) to a branch (_e.g._ `xtensor`) under `psi4/psi4`.\n",
    "2. Work gets split among volunteers folder-wise, PRs go to `psi4/psi4:xtensor`.\n",
    "3. First replace `Vector` with `Vector_<double>`. Fix compiler errors:\n",
    "   * Change signatures (most of the time sufficient).\n",
    "   * Implement functions that do not exist yet.\n",
    "   * Rewrite some of the calling code.\n",
    "4. Run relevant tests. Ideally no functionality should break."
   ]
  }
 ],
 "metadata": {
  "kernelspec": {
   "display_name": "Python 3",
   "language": "python",
   "name": "python3"
  },
  "language_info": {
   "codemirror_mode": {
    "name": "ipython",
    "version": 3
   },
   "file_extension": ".py",
   "mimetype": "text/x-python",
   "name": "python",
   "nbconvert_exporter": "python",
   "pygments_lexer": "ipython3",
   "version": "3.7.4"
  }
 },
 "nbformat": 4,
 "nbformat_minor": 4
}
